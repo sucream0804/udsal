{
 "cells": [
  {
   "cell_type": "code",
   "execution_count": 2,
   "metadata": {},
   "outputs": [],
   "source": [
    "%matplotlib inline\n",
    "import os\n",
    "import sys\n",
    "\n",
    "import numpy as np\n",
    "import pandas as pd\n",
    "import geopandas as gpd\n",
    "from shapely import wkt\n",
    "\n",
    "import matplotlib.pyplot as plt\n",
    "\n",
    "df = pd.read_json('https://api.census.gov/data/2017/acs/acs5/variables.json')\n",
    "df = df.reset_index()\n",
    "\n",
    "var = sys.argv[1]\n",
    "url = 'https://api.census.gov/data/2017/acs/acs5?get={},NAME&for=tract:*&in=state:36%20county:*'.format(var)\n",
    "dat = pd.read_json(url)\n",
    "col_name = [n for n in dat.iloc[0]]\n",
    "dat.columns = col_name\n",
    "dat.drop(dat.head(1).index, inplace=True)\n",
    "\n",
    "dat['cd'] = dat.state + dat.county + dat.tract\n",
    "\n",
    "ct2010 = pd.read_csv('https://data.cityofnewyork.us/api/views/i69b-3rdj/rows.csv?accessType=api', dtype=str)\n",
    "\n",
    "ct2010['county'] = None\n",
    "ct2010['county'][ct2010['BoroName']=='Staten Island'] = '085'\n",
    "ct2010['county'][ct2010['BoroName']=='Manhattan'] = '061'\n",
    "ct2010['county'][ct2010['BoroName']=='Brooklyn'] = '047'\n",
    "ct2010['county'][ct2010['BoroName']=='Bronx'] = '005'\n",
    "ct2010['county'][ct2010['BoroName']=='Queens'] = '081'\n",
    "\n",
    "ct2010['cd'] = '36' + ct2010['county'] + ct2010['CT2010']\n",
    "\n",
    "gdf = gpd.GeoDataFrame(ct2010)\n",
    "gdf['the_geom'] = gdf['the_geom'].apply(wkt.loads)\n",
    "gdf = gpd.GeoDataFrame(gdf, geometry='the_geom')\n",
    "\n",
    "gdf = gdf.merge(dat, on='cd')\n",
    "\n",
    "fig, ax = plt.subplots(figsize=(20,20))\n",
    "gdf.plot(ax=ax, column=str(var), cmap='OrRd', edgecolor='black', scheme='quantiles', legend=True)\n",
    "plt.show()"
   ]
  }
 ],
 "metadata": {
  "kernelspec": {
   "display_name": "girumph",
   "language": "python",
   "name": "girumph"
  },
  "language_info": {
   "codemirror_mode": {
    "name": "ipython",
    "version": 3
   },
   "file_extension": ".py",
   "mimetype": "text/x-python",
   "name": "python",
   "nbconvert_exporter": "python",
   "pygments_lexer": "ipython3",
   "version": "3.7.3"
  }
 },
 "nbformat": 4,
 "nbformat_minor": 2
}
